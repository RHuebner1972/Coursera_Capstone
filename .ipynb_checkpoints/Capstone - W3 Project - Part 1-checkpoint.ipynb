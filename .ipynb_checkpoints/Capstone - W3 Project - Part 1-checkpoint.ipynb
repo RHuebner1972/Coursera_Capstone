{
 "cells": [
  {
   "cell_type": "markdown",
   "metadata": {},
   "source": [
    "<h1 align=\"center\">Rich's Final Project Notebook</h1>\n",
    "<h2 align=\"center\">Coursera IBM Data Science Professional Certificate</h2>\n",
    "This notebook will primarily be used to fulfill the requirements of the Coursera IBM Data Science Capstone project."
   ]
  },
  {
   "cell_type": "code",
   "execution_count": 1,
   "metadata": {},
   "outputs": [],
   "source": [
    "import pandas as pd\n",
    "import numpy as np"
   ]
  },
  {
   "cell_type": "code",
   "execution_count": 2,
   "metadata": {},
   "outputs": [
    {
     "name": "stdout",
     "output_type": "stream",
     "text": [
      "Hello Capstone Project Course!\n"
     ]
    }
   ],
   "source": [
    "print(\"Hello Capstone Project Course!\")"
   ]
  },
  {
   "cell_type": "code",
   "execution_count": null,
   "metadata": {},
   "outputs": [],
   "source": [
    "# Calls to the Foursquare API\n",
    "# https://api.foursquare.com/v2/search/\n",
    "# include ClientID, Client Secret, Version.\n",
    "CLIENT_ID = ‘0PNU1Y1L1N0W33QOPPR0JMJYJRASC2NNJSCH5JPXXFEO2BIY’ # your Foursquare ID\n",
    "CLIENT_SECRET = ‘2LX3Z3HXAEKA1DZTT54TQDE4ZMSCYSLAZGKGZSK5ZIQ4IYMP’ # your Foursquare Secret\n",
    "VERSION = ‘20180604’\n",
    "LIMIT = 100\n"
   ]
  }
 ],
 "metadata": {
  "kernelspec": {
   "display_name": "Python 3",
   "language": "python",
   "name": "python3"
  },
  "language_info": {
   "codemirror_mode": {
    "name": "ipython",
    "version": 3
   },
   "file_extension": ".py",
   "mimetype": "text/x-python",
   "name": "python",
   "nbconvert_exporter": "python",
   "pygments_lexer": "ipython3",
   "version": "3.7.7"
  }
 },
 "nbformat": 4,
 "nbformat_minor": 4
}
